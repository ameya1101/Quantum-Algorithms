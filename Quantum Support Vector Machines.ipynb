{
  "nbformat": 4,
  "nbformat_minor": 0,
  "metadata": {
    "colab": {
      "name": "Quantum Support Vector Machines",
      "provenance": [],
      "collapsed_sections": [
        "pIRIa6Po-tR3",
        "LAftnc-D-WWr",
        "Cyrm--QYu9Fo",
        "Y77Nq-e_E4LO"
      ]
    },
    "kernelspec": {
      "name": "python3",
      "display_name": "Python 3"
    }
  },
  "cells": [
    {
      "cell_type": "markdown",
      "metadata": {
        "id": "5EWg71dAyUX2",
        "colab_type": "text"
      },
      "source": [
        "### **Libraries**\n"
      ]
    },
    {
      "cell_type": "code",
      "metadata": {
        "id": "3_-QC7HO0HJa",
        "colab_type": "code",
        "colab": {}
      },
      "source": [
        "import numpy as np\n",
        "import pandas as pd\n",
        "import random\n",
        "import matplotlib.pyplot as plt\n",
        "from sklearn.datasets import load_breast_cancer\n",
        "from sklearn.model_selection import train_test_split\n",
        "from sklearn.decomposition import PCA\n",
        "from sklearn.preprocessing import StandardScaler\n",
        "from sklearn.svm import SVC\n",
        "from sklearn.pipeline import Pipeline\n",
        "from sklearn.metrics import accuracy_score, roc_curve, confusion_matrix\n",
        "from sklearn.model_selection import cross_val_predict"
      ],
      "execution_count": 0,
      "outputs": []
    },
    {
      "cell_type": "code",
      "metadata": {
        "id": "h12SBcx6yIqO",
        "colab_type": "code",
        "colab": {}
      },
      "source": [
        "!pip install qiskit"
      ],
      "execution_count": 0,
      "outputs": []
    },
    {
      "cell_type": "code",
      "metadata": {
        "id": "Se8IdhZbyNU4",
        "colab_type": "code",
        "colab": {}
      },
      "source": [
        "import qiskit\n",
        "from qiskit import Aer\n",
        "from qiskit import IBMQ\n",
        "from qiskit import BasicAer\n",
        "from qiskit.ml.datasets import *\n",
        "from qiskit.circuit.library import ZZFeatureMap\n",
        "from qiskit.aqua.utils import split_dataset_to_data_and_labels, map_label_to_class_name\n",
        "from qiskit.aqua import QuantumInstance\n",
        "from qiskit.aqua.algorithms import QSVM"
      ],
      "execution_count": 0,
      "outputs": []
    },
    {
      "cell_type": "markdown",
      "metadata": {
        "id": "pIRIa6Po-tR3",
        "colab_type": "text"
      },
      "source": [
        "### **Loading the datasets**\n",
        "\n",
        "The dataset is the Breast Cancer Wisconsin (Diagnostic) Data Set, imported using the native sklearn load_breast_cancer method. \n",
        "It contains 569 instances and 32 attributes. Principal Component Analysis is performed to select those features that contain about 95% of the total variance and subsequently the data is normalised using the StandardScaler() method\n"
      ]
    },
    {
      "cell_type": "code",
      "metadata": {
        "id": "Jkx-Vtco0UOK",
        "colab_type": "code",
        "colab": {}
      },
      "source": [
        "data = load_breast_cancer()"
      ],
      "execution_count": 0,
      "outputs": []
    },
    {
      "cell_type": "code",
      "metadata": {
        "id": "GuLVCzi-1ClJ",
        "colab_type": "code",
        "colab": {}
      },
      "source": [
        "X_data = pd.DataFrame(data.data, columns=data.feature_names)\n",
        "y_data = pd.DataFrame(data.target, columns=[\"Target\"])"
      ],
      "execution_count": 0,
      "outputs": []
    },
    {
      "cell_type": "code",
      "metadata": {
        "id": "yv7tgd2DpTcC",
        "colab_type": "code",
        "colab": {}
      },
      "source": [
        "dat = pd.concat([X_data, y_data], axis=1, join='inner')"
      ],
      "execution_count": 0,
      "outputs": []
    },
    {
      "cell_type": "code",
      "metadata": {
        "id": "GWIem457p3eQ",
        "colab_type": "code",
        "colab": {}
      },
      "source": [
        "reduced_data = dat.sample(n=30)"
      ],
      "execution_count": 0,
      "outputs": []
    },
    {
      "cell_type": "code",
      "metadata": {
        "id": "iu0rUdfr1_q_",
        "colab_type": "code",
        "colab": {}
      },
      "source": [
        "X_train_red, X_test_red, y_train_red, y_test_red = train_test_split(reduced_data[data.feature_names], reduced_data[\"Target\"], test_size=1/3)"
      ],
      "execution_count": 0,
      "outputs": []
    },
    {
      "cell_type": "code",
      "metadata": {
        "id": "s3rxWD6dsecI",
        "colab_type": "code",
        "colab": {}
      },
      "source": [
        "X_train, X_test, y_train_std, y_test_std = train_test_split(dat[data.feature_names], dat[\"Target\"], test_size=1/3)"
      ],
      "execution_count": 0,
      "outputs": []
    },
    {
      "cell_type": "code",
      "metadata": {
        "id": "ZJeiJcuw_keK",
        "colab_type": "code",
        "colab": {}
      },
      "source": [
        "pca = PCA(n_components=2)\n",
        "scaler = StandardScaler()\n",
        "\n",
        "data_transformer = Pipeline([\n",
        "                             (\"pca\", pca),\n",
        "                             (\"scaler\", scaler),\n",
        "])"
      ],
      "execution_count": 0,
      "outputs": []
    },
    {
      "cell_type": "code",
      "metadata": {
        "id": "m4p71Vmr_nNj",
        "colab_type": "code",
        "colab": {}
      },
      "source": [
        "X_train_std = data_transformer.fit_transform(X_train)\n",
        "X_test_std = data_transformer.fit_transform(X_test)\n",
        "\n",
        "X_train_red = data_transformer.fit_transform(X_train_red)\n",
        "X_test_red = data_transformer.fit_transform(X_test_red)\n"
      ],
      "execution_count": 0,
      "outputs": []
    },
    {
      "cell_type": "code",
      "metadata": {
        "id": "RK7F3XN9s0qp",
        "colab_type": "code",
        "colab": {
          "base_uri": "https://localhost:8080/",
          "height": 34
        },
        "outputId": "2d099a7a-2caf-470f-e95d-de91ec117187"
      },
      "source": [
        "X_train_red.shape\n"
      ],
      "execution_count": 327,
      "outputs": [
        {
          "output_type": "execute_result",
          "data": {
            "text/plain": [
              "(20, 2)"
            ]
          },
          "metadata": {
            "tags": []
          },
          "execution_count": 327
        }
      ]
    },
    {
      "cell_type": "code",
      "metadata": {
        "id": "0KGn_iTErql8",
        "colab_type": "code",
        "colab": {
          "base_uri": "https://localhost:8080/",
          "height": 34
        },
        "outputId": "1fbb8b87-36a9-4564-e75e-0198fb8c597a"
      },
      "source": [
        "X_train_std.shape"
      ],
      "execution_count": 315,
      "outputs": [
        {
          "output_type": "execute_result",
          "data": {
            "text/plain": [
              "(379, 2)"
            ]
          },
          "metadata": {
            "tags": []
          },
          "execution_count": 315
        }
      ]
    },
    {
      "cell_type": "markdown",
      "metadata": {
        "id": "LAftnc-D-WWr",
        "colab_type": "text"
      },
      "source": [
        "### **Classical SVM (Full Dataset, 2 features)**\n",
        "\n",
        "In this section, we implement a classical Support Vector Machine binary classifer."
      ]
    },
    {
      "cell_type": "code",
      "metadata": {
        "id": "Lllid0FhBAXb",
        "colab_type": "code",
        "colab": {}
      },
      "source": [
        "classical_svm_clf = SVC()"
      ],
      "execution_count": 0,
      "outputs": []
    },
    {
      "cell_type": "code",
      "metadata": {
        "id": "BH_UhTNK4FMY",
        "colab_type": "code",
        "outputId": "c9c4d613-8180-4ec1-893d-d3bd90930827",
        "colab": {
          "base_uri": "https://localhost:8080/",
          "height": 119
        }
      },
      "source": [
        "%time\n",
        "classical_svm_clf.fit(X_train_std, y_train_std)"
      ],
      "execution_count": 317,
      "outputs": [
        {
          "output_type": "stream",
          "text": [
            "CPU times: user 2 µs, sys: 0 ns, total: 2 µs\n",
            "Wall time: 5.25 µs\n"
          ],
          "name": "stdout"
        },
        {
          "output_type": "execute_result",
          "data": {
            "text/plain": [
              "SVC(C=1.0, break_ties=False, cache_size=200, class_weight=None, coef0=0.0,\n",
              "    decision_function_shape='ovr', degree=3, gamma='scale', kernel='rbf',\n",
              "    max_iter=-1, probability=False, random_state=None, shrinking=True,\n",
              "    tol=0.001, verbose=False)"
            ]
          },
          "metadata": {
            "tags": []
          },
          "execution_count": 317
        }
      ]
    },
    {
      "cell_type": "code",
      "metadata": {
        "id": "i7O1kkQa7yBQ",
        "colab_type": "code",
        "colab": {}
      },
      "source": [
        "y_train_pred_std = cross_val_predict(classical_svm_clf, X_train_std, y_train_std, cv=5)"
      ],
      "execution_count": 0,
      "outputs": []
    },
    {
      "cell_type": "code",
      "metadata": {
        "id": "GTwyGkBC8tnt",
        "colab_type": "code",
        "colab": {}
      },
      "source": [
        "fpr, tpr, thresholds = roc_curve(y_train_std, y_train_pred_std)"
      ],
      "execution_count": 0,
      "outputs": []
    },
    {
      "cell_type": "code",
      "metadata": {
        "id": "vBcVWYxc9rSi",
        "colab_type": "code",
        "outputId": "a2372f39-569c-4ee7-aab3-c0e5b7a5aa13",
        "colab": {
          "base_uri": "https://localhost:8080/",
          "height": 279
        }
      },
      "source": [
        "def plot_roc_curve(fpr, tpr, label=None):\n",
        "    plt.plot(fpr, tpr, linewidth=2, label=label)\n",
        "    plt.plot([0, 1], [0, 1], 'k--')\n",
        "    plt.xlabel(\"False Positive Rate\")\n",
        "    plt.ylabel(\"True Positive Rate\")\n",
        "    plt.grid()\n",
        "\n",
        "plot_roc_curve(fpr, tpr)\n",
        "plt.show()"
      ],
      "execution_count": 320,
      "outputs": [
        {
          "output_type": "display_data",
          "data": {
            "image/png": "[encoded data removed]",
            "text/plain": [
              "<Figure size 432x288 with 1 Axes>"
            ]
          },
          "metadata": {
            "tags": [],
            "needs_background": "light"
          }
        }
      ]
    },
    {
      "cell_type": "code",
      "metadata": {
        "id": "8R-6Mv194U71",
        "colab_type": "code",
        "colab": {}
      },
      "source": [
        "y_pred_std = classical_svm_clf.predict(X_test_std)\n",
        "y_pred_std_inv = 1 - y_pred_std\n",
        "accuracy = accuracy_score(y_test_std, y_pred_std)\n",
        "inv_accuracy = accuracy_score(y_test_std, y_pred_std_inv)"
      ],
      "execution_count": 0,
      "outputs": []
    },
    {
      "cell_type": "code",
      "metadata": {
        "id": "vYKEybNS4zsh",
        "colab_type": "code",
        "outputId": "b3235ce5-425c-43a3-cd09-ad3c5b994983",
        "colab": {
          "base_uri": "https://localhost:8080/",
          "height": 51
        }
      },
      "source": [
        "print(\"Classical accuracy on test set: {0}%\".format(np.round(accuracy*100, 2)))\n",
        "print(\"Classical accuracy on test set (inverted predictions): {0}%\".format(np.round(inv_accuracy*100, 2)))"
      ],
      "execution_count": 322,
      "outputs": [
        {
          "output_type": "stream",
          "text": [
            "Classical accuracy on test set: 85.26%\n",
            "Classical accuracy on test set (inverted predictions): 14.74%\n"
          ],
          "name": "stdout"
        }
      ]
    },
    {
      "cell_type": "code",
      "metadata": {
        "id": "g8__25L_dRyI",
        "colab_type": "code",
        "colab": {}
      },
      "source": [
        "conf_matrix = confusion_matrix(y_test, y_pred)"
      ],
      "execution_count": 0,
      "outputs": []
    },
    {
      "cell_type": "code",
      "metadata": {
        "id": "zqC_SP3P48Tj",
        "colab_type": "code",
        "colab": {
          "base_uri": "https://localhost:8080/",
          "height": 51
        },
        "outputId": "8801ca68-977d-4cda-8ca6-35cb9d7c0e6b"
      },
      "source": [
        "conf_matrix"
      ],
      "execution_count": 324,
      "outputs": [
        {
          "output_type": "execute_result",
          "data": {
            "text/plain": [
              "array([[0, 3],\n",
              "       [4, 3]])"
            ]
          },
          "metadata": {
            "tags": []
          },
          "execution_count": 324
        }
      ]
    },
    {
      "cell_type": "markdown",
      "metadata": {
        "id": "Cyrm--QYu9Fo",
        "colab_type": "text"
      },
      "source": [
        "### **Classical SVM (Reduced Dataset, 2 features)**"
      ]
    },
    {
      "cell_type": "code",
      "metadata": {
        "id": "HcI1Xo8RuWJJ",
        "colab_type": "code",
        "colab": {}
      },
      "source": [
        "classical_svm_clf_red = SVC()"
      ],
      "execution_count": 0,
      "outputs": []
    },
    {
      "cell_type": "code",
      "metadata": {
        "id": "pRYYvEnLu14q",
        "colab_type": "code",
        "colab": {
          "base_uri": "https://localhost:8080/",
          "height": 119
        },
        "outputId": "315ba590-8bad-4d5d-b6a7-4554007cfdc8"
      },
      "source": [
        "%time\n",
        "classical_svm_clf.fit(X_train_red, y_train_red)"
      ],
      "execution_count": 328,
      "outputs": [
        {
          "output_type": "stream",
          "text": [
            "CPU times: user 4 µs, sys: 0 ns, total: 4 µs\n",
            "Wall time: 8.11 µs\n"
          ],
          "name": "stdout"
        },
        {
          "output_type": "execute_result",
          "data": {
            "text/plain": [
              "SVC(C=1.0, break_ties=False, cache_size=200, class_weight=None, coef0=0.0,\n",
              "    decision_function_shape='ovr', degree=3, gamma='scale', kernel='rbf',\n",
              "    max_iter=-1, probability=False, random_state=None, shrinking=True,\n",
              "    tol=0.001, verbose=False)"
            ]
          },
          "metadata": {
            "tags": []
          },
          "execution_count": 328
        }
      ]
    },
    {
      "cell_type": "code",
      "metadata": {
        "id": "nsyTRR_PvQzf",
        "colab_type": "code",
        "colab": {}
      },
      "source": [
        "y_train_pred_red = cross_val_predict(classical_svm_clf_red, X_train_red, y_train_red, cv=5)"
      ],
      "execution_count": 0,
      "outputs": []
    },
    {
      "cell_type": "code",
      "metadata": {
        "id": "nEerZjIvvYzf",
        "colab_type": "code",
        "colab": {}
      },
      "source": [
        "fpr, tpr, thresholds = roc_curve(y_train_red, y_train_pred_red)"
      ],
      "execution_count": 0,
      "outputs": []
    },
    {
      "cell_type": "code",
      "metadata": {
        "id": "MRbGDJE5vdok",
        "colab_type": "code",
        "colab": {
          "base_uri": "https://localhost:8080/",
          "height": 279
        },
        "outputId": "a76e817e-caab-4166-e7aa-f5b37f9abc71"
      },
      "source": [
        "def plot_roc_curve(fpr, tpr, label=None):\n",
        "    plt.plot(fpr, tpr, linewidth=2, label=label)\n",
        "    plt.plot([0, 1], [0, 1], 'k--')\n",
        "    plt.xlabel(\"False Positive Rate\")\n",
        "    plt.ylabel(\"True Positive Rate\")\n",
        "    plt.grid()\n",
        "\n",
        "plot_roc_curve(fpr, tpr)\n",
        "plt.show()"
      ],
      "execution_count": 332,
      "outputs": [
        {
          "output_type": "display_data",
          "data": {
            "image/png": "[encoded data removed]",
            "text/plain": [
              "<Figure size 432x288 with 1 Axes>"
            ]
          },
          "metadata": {
            "tags": [],
            "needs_background": "light"
          }
        }
      ]
    },
    {
      "cell_type": "code",
      "metadata": {
        "id": "vjWxjvjNvjoA",
        "colab_type": "code",
        "colab": {}
      },
      "source": [
        "y_pred_red = classical_svm_clf.predict(X_test_red)\n",
        "y_pred_red_inv = 1 - y_pred_red\n",
        "accuracy = accuracy_score(y_test_red, y_pred_red)\n",
        "inv_accuracy = accuracy_score(y_test_red, y_pred_red_inv)"
      ],
      "execution_count": 0,
      "outputs": []
    },
    {
      "cell_type": "code",
      "metadata": {
        "id": "u4EAVwDFvu4-",
        "colab_type": "code",
        "colab": {
          "base_uri": "https://localhost:8080/",
          "height": 51
        },
        "outputId": "c28af577-1989-4dae-89ae-bad5ffd8825e"
      },
      "source": [
        "print(\"Classical accuracy on test set: {0}%\".format(np.round(accuracy*100, 2)))\n",
        "print(\"Classical accuracy on test set (inverted predictions): {0}%\".format(np.round(inv_accuracy*100, 2)))"
      ],
      "execution_count": 334,
      "outputs": [
        {
          "output_type": "stream",
          "text": [
            "Classical accuracy on test set: 70.0%\n",
            "Classical accuracy on test set (inverted predictions): 30.0%\n"
          ],
          "name": "stdout"
        }
      ]
    },
    {
      "cell_type": "code",
      "metadata": {
        "id": "4Qa_ojCOv3SG",
        "colab_type": "code",
        "colab": {}
      },
      "source": [
        "conf_matrix = confusion_matrix(y_test_red, y_pred_red)"
      ],
      "execution_count": 0,
      "outputs": []
    },
    {
      "cell_type": "code",
      "metadata": {
        "id": "H1e5Dh7vv7CM",
        "colab_type": "code",
        "colab": {
          "base_uri": "https://localhost:8080/",
          "height": 51
        },
        "outputId": "5409ab7d-0af1-4500-ac51-5423db4981ad"
      },
      "source": [
        "print(conf_matrix)"
      ],
      "execution_count": 337,
      "outputs": [
        {
          "output_type": "stream",
          "text": [
            "[[1 1]\n",
            " [2 6]]\n"
          ],
          "name": "stdout"
        }
      ]
    },
    {
      "cell_type": "markdown",
      "metadata": {
        "id": "Y77Nq-e_E4LO",
        "colab_type": "text"
      },
      "source": [
        "### **Quantum SVM (Reduced Dataset, 2 features)**\n",
        "\n",
        "The quantum SVM algorithm supports a maximum of three features therefore, the dataset has been reduced using PCA to two features and 30 instances, out of which 20 training instances are selected, and the remaining 10 are used as test instances."
      ]
    },
    {
      "cell_type": "code",
      "metadata": {
        "id": "6vEtu5Wxfq7_",
        "colab_type": "code",
        "colab": {
          "base_uri": "https://localhost:8080/",
          "height": 34
        },
        "outputId": "f975ff96-fde8-4dc8-c6bb-713caf65c136"
      },
      "source": [
        "qiskit.__version__"
      ],
      "execution_count": 175,
      "outputs": [
        {
          "output_type": "execute_result",
          "data": {
            "text/plain": [
              "'0.14.1'"
            ]
          },
          "metadata": {
            "tags": []
          },
          "execution_count": 175
        }
      ]
    },
    {
      "cell_type": "code",
      "metadata": {
        "id": "fBP3MxdTiSWc",
        "colab_type": "code",
        "colab": {
          "base_uri": "https://localhost:8080/",
          "height": 281
        },
        "outputId": "f86a9b0a-7cdc-4be4-80d1-acc689016bcf"
      },
      "source": [
        "sample_total, training_input, test_input, class_labels = breast_cancer(\n",
        "    training_size=20,\n",
        "    test_size=10,\n",
        "    n=2,\n",
        "    plot_data=True\n",
        ")"
      ],
      "execution_count": 213,
      "outputs": [
        {
          "output_type": "display_data",
          "data": {
            "image/png": "[encoded data removed]",
            "text/plain": [
              "<Figure size 432x288 with 1 Axes>"
            ]
          },
          "metadata": {
            "tags": [],
            "needs_background": "light"
          }
        }
      ]
    },
    {
      "cell_type": "code",
      "metadata": {
        "id": "YXlGYNe5joqF",
        "colab_type": "code",
        "colab": {}
      },
      "source": [
        "seed = 10598\n",
        "feature_dim = 2\n",
        "\n",
        "feature_map = ZZFeatureMap(feature_dimension=feature_dim, reps=2, entanglement='linear')\n",
        "qsvm = QSVM(feature_map, training_input, test_input)"
      ],
      "execution_count": 0,
      "outputs": []
    },
    {
      "cell_type": "code",
      "metadata": {
        "id": "ayHUYowmln3c",
        "colab_type": "code",
        "colab": {}
      },
      "source": [
        "backend = BasicAer.get_backend('qasm_simulator')\n",
        "quantum_instance = QuantumInstance(backend, shots=1024, seed_simulator=seed, seed_transpiler=seed)"
      ],
      "execution_count": 0,
      "outputs": []
    },
    {
      "cell_type": "code",
      "metadata": {
        "id": "z8ELXpIMl4oJ",
        "colab_type": "code",
        "colab": {}
      },
      "source": [
        "result = qsvm.run(quantum_instance)"
      ],
      "execution_count": 0,
      "outputs": []
    },
    {
      "cell_type": "code",
      "metadata": {
        "id": "tZYpY2iHmsbs",
        "colab_type": "code",
        "colab": {
          "base_uri": "https://localhost:8080/",
          "height": 34
        },
        "outputId": "61fb7a31-5b74-4b33-c518-2ec240c3755e"
      },
      "source": [
        "print(\"Quantum accuracy on test set: {0}%\".format(round(result['testing_accuracy']*100, 2)))"
      ],
      "execution_count": 274,
      "outputs": [
        {
          "output_type": "stream",
          "text": [
            "Quantum accuracy on test set: 80.0%\n"
          ],
          "name": "stdout"
        }
      ]
    },
    {
      "cell_type": "markdown",
      "metadata": {
        "id": "gMBWtjv0wpcU",
        "colab_type": "text"
      },
      "source": [
        "### **Results**\n",
        "\n",
        "**Classical Support Vector Machines** — Test Accuracy: 85.26%\n",
        "\n",
        "**Classical Support Vector Machines (Reduced Dataset)** — Test Accuracy: 70.00%\n",
        "\n",
        "**Quantum Support Vector Machines:** — Test Accuracy: 80.00%\n",
        "\n"
      ]
    }
  ]
}