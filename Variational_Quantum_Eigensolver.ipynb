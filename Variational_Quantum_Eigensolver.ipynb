{
  "nbformat": 4,
  "nbformat_minor": 0,
  "metadata": {
    "colab": {
      "name": "Variational Quantum Eigensolver.ipynb",
      "provenance": [],
      "collapsed_sections": []
    },
    "kernelspec": {
      "name": "python3",
      "display_name": "Python 3"
    }
  },
  "cells": [
    {
      "cell_type": "code",
      "metadata": {
        "id": "Pdw_vo9X-J2k",
        "colab_type": "code",
        "colab": {}
      },
      "source": [
        "!pip install qiskit"
      ],
      "execution_count": 0,
      "outputs": []
    },
    {
      "cell_type": "code",
      "metadata": {
        "id": "YuZeoDCG-U2v",
        "colab_type": "code",
        "colab": {}
      },
      "source": [
        "import matplotlib.pyplot as plt\n",
        "import numpy as np\n",
        "import networkx as nx\n",
        "\n",
        "from qiskit import BasicAer\n",
        "from qiskit.tools.visualization import plot_histogram\n",
        "from qiskit.circuit.library import TwoLocal\n",
        "from qiskit.optimization.applications.ising import max_cut\n",
        "from qiskit.aqua.algorithms import VQE, NumPyMinimumEigensolver\n",
        "from qiskit.aqua.components.optimizers import SPSA\n",
        "from qiskit.aqua import QuantumInstance\n",
        "from qiskit.optimization.applications.ising.common import sample_most_likely"
      ],
      "execution_count": 0,
      "outputs": []
    },
    {
      "cell_type": "code",
      "metadata": {
        "id": "GlOVzEkZ_fsU",
        "colab_type": "code",
        "colab": {}
      },
      "source": [
        "n = 4\n",
        "G = nx.Graph()\n",
        "G.add_nodes_from(np.arange(0, n, 1))\n",
        "elist = [(0, 1, 1.0), (0, 2, 1.0), (0, 3, 1.0), (1, 2, 1.0), (2, 3, 1.0)]\n",
        "G.add_weighted_edges_from(elist)"
      ],
      "execution_count": 0,
      "outputs": []
    },
    {
      "cell_type": "code",
      "metadata": {
        "id": "O7QDGuJwBEtE",
        "colab_type": "code",
        "colab": {
          "base_uri": "https://localhost:8080/",
          "height": 248
        },
        "outputId": "87f8c8a0-8bbc-4dda-8ed1-6e69009f4d5d"
      },
      "source": [
        "colors = ['r' for node in G.nodes()]\n",
        "pos = nx.spring_layout(G)\n",
        "default_axes = plt.axes(frameon=True)\n",
        "nx.draw_networkx(G, node_color=colors, node_size=600, alpha=0.8, pos=pos, ax=default_axes)"
      ],
      "execution_count": 12,
      "outputs": [
        {
          "output_type": "display_data",
          "data": {
            "image/png": "[encoded data removed]",
            "text/plain": [
              "<Figure size 432x288 with 1 Axes>"
            ]
          },
          "metadata": {
            "tags": []
          }
        }
      ]
    },
    {
      "cell_type": "code",
      "metadata": {
        "id": "9GAeRTn_BYWw",
        "colab_type": "code",
        "colab": {}
      },
      "source": [
        "#Weight matrix for the graph\n",
        "\n",
        "w = np.zeros([n, n])\n",
        "for i in range(n):\n",
        "  for j in range(n):\n",
        "    temp = G.get_edge_data(i, j, default=0)\n",
        "    if temp != 0:\n",
        "      w[i, j] = temp['weight'] "
      ],
      "execution_count": 0,
      "outputs": []
    },
    {
      "cell_type": "code",
      "metadata": {
        "id": "cLdMMOvGCDHW",
        "colab_type": "code",
        "colab": {
          "base_uri": "https://localhost:8080/",
          "height": 85
        },
        "outputId": "6742c6fe-ef3e-4402-b136-2b30fcaaa771"
      },
      "source": [
        "print(w)"
      ],
      "execution_count": 16,
      "outputs": [
        {
          "output_type": "stream",
          "text": [
            "[[0. 1. 1. 1.]\n",
            " [1. 0. 1. 0.]\n",
            " [1. 1. 0. 1.]\n",
            " [1. 0. 1. 0.]]\n"
          ],
          "name": "stdout"
        }
      ]
    },
    {
      "cell_type": "code",
      "metadata": {
        "id": "8uRz0JhYCIFa",
        "colab_type": "code",
        "colab": {}
      },
      "source": [
        "hamiltonian, offset = max_cut.get_operator(w)"
      ],
      "execution_count": 0,
      "outputs": []
    },
    {
      "cell_type": "code",
      "metadata": {
        "id": "FmiRFqlhEmlR",
        "colab_type": "code",
        "colab": {}
      },
      "source": [
        "seed = 10598\n",
        "\n",
        "spsa = SPSA(max_trials=300)\n",
        "ry = TwoLocal(hamiltonian.num_qubits, 'ry', 'cz', reps=5, entanglement='linear')\n",
        "vqe = VQE(hamiltonian, ry, spsa)\n"
      ],
      "execution_count": 0,
      "outputs": []
    },
    {
      "cell_type": "code",
      "metadata": {
        "id": "2S3RSKFmEpZ7",
        "colab_type": "code",
        "colab": {}
      },
      "source": [
        "backend = BasicAer.get_backend('statevector_simulator')\n",
        "quantum_instance = QuantumInstance(backend, seed_simulator=seed, seed_transpiler=seed)"
      ],
      "execution_count": 0,
      "outputs": []
    },
    {
      "cell_type": "code",
      "metadata": {
        "id": "gP6aGFvvHtCb",
        "colab_type": "code",
        "colab": {}
      },
      "source": [
        "result = vqe.run(quantum_instance)"
      ],
      "execution_count": 0,
      "outputs": []
    },
    {
      "cell_type": "code",
      "metadata": {
        "id": "8RIKnRydIEaE",
        "colab_type": "code",
        "colab": {
          "base_uri": "https://localhost:8080/",
          "height": 333
        },
        "outputId": "654459fb-1ae5-47ae-d89e-213f7ace8ed8"
      },
      "source": [
        "x = sample_most_likely(result.eigenstate)\n",
        "print(\"Energy: \", result.eigenvalue.real)\n",
        "print(\"Time\", result.optimizer_time)\n",
        "print(\"MaxCut objective: \", result.eigenvalue.real + offset)\n",
        "print(\"Solution: \", max_cut.get_graph_solution(x))\n",
        "print(\"Solution objective: \", max_cut.max_cut_value(x, w))\n",
        "\n",
        "colors = ['r' if max_cut.get_graph_solution(x)[i] == 0 else 'b' for i in range(n)]\n",
        "nx.draw_networkx(G, node_color=colors, node_size=600, alpha=0.8, pos=pos)"
      ],
      "execution_count": 41,
      "outputs": [
        {
          "output_type": "stream",
          "text": [
            "Energy:  -1.49779043958844\n",
            "Time 7.160440444946289\n",
            "MaxCut objective:  -3.99779043958844\n",
            "Solution:  [0. 1. 0. 1.]\n",
            "Solution objective:  4.0\n"
          ],
          "name": "stdout"
        },
        {
          "output_type": "display_data",
          "data": {
            "image/png": "[encoded data removed]",
            "text/plain": [
              "<Figure size 432x288 with 1 Axes>"
            ]
          },
          "metadata": {
            "tags": []
          }
        }
      ]
    }
  ]
}